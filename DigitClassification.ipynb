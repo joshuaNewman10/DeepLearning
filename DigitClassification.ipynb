{
 "cells": [
  {
   "cell_type": "markdown",
   "metadata": {},
   "source": [
    "##Digit Classification"
   ]
  },
  {
   "cell_type": "code",
   "execution_count": 1,
   "metadata": {
    "collapsed": true
   },
   "outputs": [],
   "source": [
    "#Neural Networks from Neural Networks and Deep Learning by Michael Nielson"
   ]
  },
  {
   "cell_type": "code",
   "execution_count": 2,
   "metadata": {
    "collapsed": true
   },
   "outputs": [],
   "source": [
    "####Libraries\n",
    "\n",
    "#Standard Library\n",
    "import random\n",
    "\n",
    "#Third-party Libraries\n",
    "import numpy as np"
   ]
  },
  {
   "cell_type": "markdown",
   "metadata": {},
   "source": [
    "- np.random.randn will generate Gaussian distribution with mean 0, sd \n",
    "- Random initilizaiton gives our schotastic gradient descent good starting place"
   ]
  },
  {
   "cell_type": "code",
   "execution_count": 3,
   "metadata": {
    "collapsed": true
   },
   "outputs": [],
   "source": [
    "class Network():\n",
    "    \n",
    "    def __init__(self, sizes): #sizes is a list of the number of neurons in the respective layers\n",
    "        self.num_layers = len(sizes)\n",
    "        self.sizes = sizes\n",
    "        self.biases = [np.random.randn(y, 1) for y in sizes[1:]] #shape of (y,1) because input nodes have no bias\n",
    "        self.weights = [np.random.randn(y, x) for x, y in zip(sizes[:-1], sizes[1:])] #[:-1] is all but last elem\n",
    "    \n",
    "    def feedforward(self, a):\n",
    "        \"\"\"\n",
    "        Return output of the network if 'a' is input\n",
    "        \"\"\"\n",
    "        for b, w in zip(self.biases, self.weights):\n",
    "            a = sigmoid_vec(np.dot(w, a) + b) # our vector of activations\n",
    "        return a\n",
    "    \n",
    "    def SGD(self, training_data, epochs, mini_batch_size, eta, test_data=None):\n",
    "        \"\"\"\n",
    "        Training_data: list of tuples (x,y) -->training inputs and desired output\n",
    "        eta: learning rate\n",
    "        epochs: number of epochs to train for\n",
    "        mini_batch_size: size of mini batch to use when sampling\n",
    "        *If test_data we evaluate network against test data after eah eopoch and print parial progress \n",
    "        NOTE * will cause serious performance hit\n",
    "        \"\"\"\n",
    "        if test_data: \n",
    "            n_test = len(test_data)\n",
    "        n = len(training_data)\n",
    "        for j in xrange(epochs):\n",
    "            random.shuffle(training_data) #shuffle training data\n",
    "            mini_batches = [ #partition into minibatches of mini_batch_size\n",
    "                training_data[k: k + mini_batch_size] for k in xrange(0, n, mini_batch_size)\n",
    "            ]\n",
    "            for mini_batch in mini_batches: #apply single SGD for each mini_batch\n",
    "                self.update_mini_batch(mini_batch, eta) #update network weights, biases according to single SGD iteration\n",
    "            if test_data:\n",
    "                print('Epoch {0}: {1} / {2}'.format(j, self.evaluate(test_data), n_test))\n",
    "            else:\n",
    "                print('Epoch {0} complete'.format(j))\n",
    "                \n",
    "    def update_mini_batch(self, mini_batch, eta):\n",
    "        \"\"\"\n",
    "        Mini_batch: list of tuples of size(x, y)\n",
    "        eta: learning rate\n",
    "        Update the network's weights and biases by applying gradient descent\n",
    "        using backpropogation to a single mini-batch\n",
    "        \"\"\"\n",
    "        nabla_b = [np.zeros(b.shape) for b in self.biases] #nabla is gradient symbol \n",
    "        nabla_w = [np.zeros(w.shape) for w in self.weights]\n",
    "        for x, y in mini_batch:\n",
    "            #self.backprop is fast way of computing the gradients for every training exp in mini_batch\n",
    "            #then update our weights and biases appropriately\n",
    "            #self.backprop should return the appropriate gradient for the cost associated to the training example x\n",
    "            delta_nabla_b, delta_nabla_w = self.backprop(x, y)\n",
    "            nabla_b = [nb + dnb for nb, dnb in zip(nabla_b, delta_nabla_b)]\n",
    "            nabla_w = [nw + dnw for nw, dnw in zip(nabla_w, delta_nabla_w)] \n",
    "        #new weights, biases after a training epoch\n",
    "        self.weights = [w-(eta/len(mini_batch)) * nw for w, nw in zip(self.weights, nabla_w)] #eq 20\n",
    "        self.biases =  [b-(eta/len(mini_batch)) * nb for b, nb in zip(self.biases,  nabla_b)] #eq 21\n",
    "        \n",
    "    def backprop(self, x, y):\n",
    "        \"\"\"Return a tuple ``(nabla_b, nabla_w)`` representing the\n",
    "        gradient for the cost function C_x.  ``nabla_b`` and\n",
    "        ``nabla_w`` are layer-by-layer lists of numpy arrays, similar\n",
    "        to ``self.biases`` and ``self.weights``.\"\"\"\n",
    "        nabla_b = [np.zeros(b.shape) for b in self.biases]\n",
    "        nabla_w = [np.zeros(w.shape) for w in self.weights]\n",
    "        # feedforward\n",
    "        activation = x\n",
    "        activations = [x] # list to store all the activations, layer by layer\n",
    "        zs = [] # list to store all the z vectors, layer by layer\n",
    "        for b, w in zip(self.biases, self.weights):\n",
    "            z = np.dot(w, activation)+b\n",
    "            zs.append(z)\n",
    "            activation = sigmoid_vec(z)\n",
    "            activations.append(activation)\n",
    "        # backward pass\n",
    "        delta = self.cost_derivative(activations[-1], y) * \\\n",
    "            sigmoid_prime_vec(zs[-1])\n",
    "        nabla_b[-1] = delta\n",
    "        nabla_w[-1] = np.dot(delta, activations[-2].transpose())\n",
    "        # Note that the variable l in the loop below is used a little\n",
    "        # differently to the notation in Chapter 2 of the book.  Here,\n",
    "        # l = 1 means the last layer of neurons, l = 2 is the\n",
    "        # second-last layer, and so on.  It's a renumbering of the\n",
    "        # scheme in the book, used here to take advantage of the fact\n",
    "        # that Python can use negative indices in lists.\n",
    "        for l in xrange(2, self.num_layers):\n",
    "            z = zs[-l]\n",
    "            spv = sigmoid_prime_vec(z)\n",
    "            delta = np.dot(self.weights[-l+1].transpose(), delta) * spv\n",
    "            nabla_b[-l] = delta\n",
    "            nabla_w[-l] = np.dot(delta, activations[-l-1].transpose())\n",
    "        return (nabla_b, nabla_w)\n",
    "    \n",
    "    def evaluate(self, test_data):\n",
    "        \"\"\"\n",
    "        Return number of test inputs for which the network outputs the correct results\n",
    "        The nets output is assumed to be the index of whichever neuron in last layer has highest activtaion\n",
    "        \"\"\"\n",
    "        test_results = [(np.argmax(self.feedforward(x)), y) for (x,y) in test_data]\n",
    "        return sum(int(x==y) for (x,y) in test_results)\n",
    "    \n",
    "    def cost_derivative(self, output_activations, y):\n",
    "        \"\"\"\n",
    "        Return vector of partial derivatives \\partial C_x / \\partial a for the output activations\n",
    "        \"\"\"\n",
    "        return output_activations-y\n",
    "    "
   ]
  },
  {
   "cell_type": "code",
   "execution_count": 4,
   "metadata": {
    "collapsed": true
   },
   "outputs": [],
   "source": [
    "def sigmoid(z):\n",
    "    return 1.0/(1.0 + np.exp(-z))\n",
    "\n",
    "#vectorized form of sigmoid function\n",
    "# takes a nested sequence of objects or numpy arrays as inputs and returns a numpy array as output\n",
    "sigmoid_vec = np.vectorize(sigmoid)\n",
    "\n",
    "def sigmoid_prime(z):\n",
    "    \"\"\"Derivative of sigmoid func\"\"\"\n",
    "    return sigmoid(z)*(1-sigmoid(z))\n",
    "\n",
    "sigmoid_prime_vec = np.vectorize(sigmoid_prime)"
   ]
  },
  {
   "cell_type": "code",
   "execution_count": 5,
   "metadata": {
    "collapsed": false
   },
   "outputs": [],
   "source": [
    "net = Network([2,3,1])"
   ]
  },
  {
   "cell_type": "code",
   "execution_count": 6,
   "metadata": {
    "collapsed": false
   },
   "outputs": [
    {
     "data": {
      "text/plain": [
       "[array([[ 2.08823016, -1.48287094],\n",
       "        [-0.37177403, -1.48306557],\n",
       "        [-0.4191405 ,  0.07311861]]),\n",
       " array([[ 0.31393406,  0.57333994, -0.09805865]])]"
      ]
     },
     "execution_count": 6,
     "metadata": {},
     "output_type": "execute_result"
    }
   ],
   "source": [
    "#Biases, Weights stored as numpy matrices\n",
    "net.weights"
   ]
  },
  {
   "cell_type": "code",
   "execution_count": null,
   "metadata": {
    "collapsed": true
   },
   "outputs": [],
   "source": []
  },
  {
   "cell_type": "markdown",
   "metadata": {},
   "source": [
    "###Load Up Our Data"
   ]
  },
  {
   "cell_type": "code",
   "execution_count": 7,
   "metadata": {
    "collapsed": false
   },
   "outputs": [],
   "source": [
    "import mnist_loader"
   ]
  },
  {
   "cell_type": "code",
   "execution_count": 8,
   "metadata": {
    "collapsed": false
   },
   "outputs": [],
   "source": [
    "training_data, validation_data, test_data = mnist_loader.load_data_wrapper()"
   ]
  },
  {
   "cell_type": "code",
   "execution_count": 9,
   "metadata": {
    "collapsed": false
   },
   "outputs": [
    {
     "name": "stdout",
     "output_type": "stream",
     "text": [
      "Epoch 0: 9007 / 10000\n",
      "Epoch 1: 9191 / 10000\n",
      "Epoch 2: 9254 / 10000\n",
      "Epoch 3: 9305 / 10000\n",
      "Epoch 4: 9361 / 10000\n",
      "Epoch 5: 9386 / 10000\n",
      "Epoch 6: 9418 / 10000\n",
      "Epoch 7: 9411 / 10000\n",
      "Epoch 8: 9409 / 10000\n",
      "Epoch 9: 9433 / 10000\n",
      "Epoch 10: 9460 / 10000\n",
      "Epoch 11: 9441 / 10000\n",
      "Epoch 12: 9452 / 10000\n",
      "Epoch 13: 9451 / 10000\n",
      "Epoch 14: 9448 / 10000\n",
      "Epoch 15: 9456 / 10000\n",
      "Epoch 16: 9486 / 10000\n",
      "Epoch 17: 9470 / 10000\n",
      "Epoch 18: 9478 / 10000\n",
      "Epoch 19: 9465 / 10000\n",
      "Epoch 20: 9451 / 10000\n",
      "Epoch 21: 9457 / 10000\n",
      "Epoch 22: 9475 / 10000\n",
      "Epoch 23: 9464 / 10000\n",
      "Epoch 24: 9459 / 10000\n",
      "Epoch 25: 9482 / 10000\n",
      "Epoch 26: 9483 / 10000\n",
      "Epoch 27: 9483 / 10000\n",
      "Epoch 28: 9486 / 10000\n",
      "Epoch 29: 9483 / 10000\n"
     ]
    }
   ],
   "source": [
    "net = Network([784, 30, 10])\n",
    "net.SGD(training_data, 30, 10, 3.0, test_data=test_data)"
   ]
  },
  {
   "cell_type": "code",
   "execution_count": null,
   "metadata": {
    "collapsed": true
   },
   "outputs": [],
   "source": []
  }
 ],
 "metadata": {
  "kernelspec": {
   "display_name": "Python 2",
   "language": "python",
   "name": "python2"
  },
  "language_info": {
   "codemirror_mode": {
    "name": "ipython",
    "version": 2
   },
   "file_extension": ".py",
   "mimetype": "text/x-python",
   "name": "python",
   "nbconvert_exporter": "python",
   "pygments_lexer": "ipython2",
   "version": "2.7.10"
  }
 },
 "nbformat": 4,
 "nbformat_minor": 0
}

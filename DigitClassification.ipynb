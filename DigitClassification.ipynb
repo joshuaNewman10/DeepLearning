{
 "cells": [
  {
   "cell_type": "markdown",
   "metadata": {},
   "source": [
    "##Digit Classification"
   ]
  },
  {
   "cell_type": "code",
   "execution_count": 1,
   "metadata": {
    "collapsed": true
   },
   "outputs": [],
   "source": [
    "####Libraries\n",
    "\n",
    "#Standard Library\n",
    "import random\n",
    "\n",
    "#Third-party Libraries\n",
    "import numpy as np"
   ]
  },
  {
   "cell_type": "markdown",
   "metadata": {},
   "source": [
    "- np.random.randn will generate Gaussian distribution with mean 0, sd \n",
    "- Random initilizaiton gives our schotastic gradient descent good starting place"
   ]
  },
  {
   "cell_type": "code",
   "execution_count": 24,
   "metadata": {
    "collapsed": true
   },
   "outputs": [],
   "source": [
    "class Network():\n",
    "    \n",
    "    def __init__(self, sizes): #sizes is a list of the number of neurons in the respective layers\n",
    "        self.num_layers = len(sizes)\n",
    "        self.sizes = sizes\n",
    "        self.biases = [np.random.randn(y, 1) for y in sizes[1:]] #shape of (y,1) because input nodes have no bias\n",
    "        self.weights = [np.random.randn(y, x) for x, y in zip(sizes[:-1], sizes[1:])] #[:-1] is all but last elem\n",
    "    \n",
    "    def feedforward(self, a):\n",
    "        \"\"\"\n",
    "        Return output of the network if 'a' is input\n",
    "        \"\"\"\n",
    "        for b, w in zip(self.biases, self.weights):\n",
    "            a = sigmoid_vec(np.dot(w, a) + b) # our vector of activations\n",
    "        return a\n",
    "    \n",
    "    def SGD(self, training_data, epochs, mini_batch_size, eta, test_data=None):\n",
    "        \"\"\"\n",
    "        Training_data: list of tuples (x,y) -->training inputs and desired output\n",
    "        eta: learning rate\n",
    "        epochs: number of epochs to train for\n",
    "        mini_batch_size: size of mini batch to use when sampling\n",
    "        *If test_data we evaluate network against test data after eah eopoch and print parial progress \n",
    "        NOTE * will cause serious performance hit\n",
    "        \"\"\"\n",
    "        if test_data: \n",
    "            n_test = len(test_data)\n",
    "        n = len(training_data)\n",
    "        for j in xrange(epochs):\n",
    "            random.shuffle(training_data) #shuffle training data\n",
    "            mini_batches = [ #partition into minibatches of mini_batch_size\n",
    "                training_data[k: k + mini_batch_size] for k in xrange(0, n, mini_batch_size)\n",
    "            ]\n",
    "            for mini_batch in mini_batches: #apply single SGD for each mini_batch\n",
    "                self.update_mini_batch(mini_batch, eta) #update network weights, biases according to single SGD iteration\n",
    "            if test_data:\n",
    "                print('Epoch {0}: {1} / {2}'.format(j, self.evaluate(test_data), n_test))\n",
    "            else:\n",
    "                print('Epoch {0} complete'.format(j))\n",
    "                \n",
    "    def update_mini_batch(self, mini_batch, eta):\n",
    "        \"\"\"\n",
    "        Mini_batch: list of tuples of size(x, y)\n",
    "        eta: learning rate\n",
    "        Update the network's weights and biases by applying gradient descent\n",
    "        using backpropogation to a single mini-batch\n",
    "        \"\"\"\n",
    "        nabla_b = [np.zeros(b.shape) for b in self.biases] #nabla is gradient symbol \n",
    "        nabla_w = [np.zeros(w.shape) for w in self.weights]\n",
    "        for x, y in mini_batch:\n",
    "            #self.backprop is fast way of computing the gradients for every training exp in mini_batch\n",
    "            #then update our weights and biases appropriately\n",
    "            #self.backprop should return the appropriate gradient for the cost associated to the training example x\n",
    "            delta_nabla_b, delta_nabla_w = self.backprop(x, y)\n",
    "            nabla_b = [nb + dnb for nb, dnb in zip(nabla_b, delta_nabla_b)]\n",
    "            nabla_w = [nw + dnw for nw, dnw in zip(nabla_w, delta_nabla_w)] \n",
    "        #new weights, biases after a training epoch\n",
    "        self.weights = [w-(eta/len(mini_batch)) * nw for w, nw in zip(self.weights, nabla_w)] #eq 20\n",
    "        self.biases =  [b-(eta/len(mini_batch)) * nb for b, nb in zip(self.biases,  nabla_b)] #eq 21\n",
    "        \n",
    "    def backprop(self, x, y):\n",
    "        \"\"\"Return a tuple ``(nabla_b, nabla_w)`` representing the\n",
    "        gradient for the cost function C_x.  ``nabla_b`` and\n",
    "        ``nabla_w`` are layer-by-layer lists of numpy arrays, similar\n",
    "        to ``self.biases`` and ``self.weights``.\"\"\"\n",
    "        nabla_b = [np.zeros(b.shape) for b in self.biases]\n",
    "        nabla_w = [np.zeros(w.shape) for w in self.weights]\n",
    "        # feedforward\n",
    "        activation = x\n",
    "        activations = [x] # list to store all the activations, layer by layer\n",
    "        zs = [] # list to store all the z vectors, layer by layer\n",
    "        for b, w in zip(self.biases, self.weights):\n",
    "            z = np.dot(w, activation)+b\n",
    "            zs.append(z)\n",
    "            activation = sigmoid_vec(z)\n",
    "            activations.append(activation)\n",
    "        # backward pass\n",
    "        delta = self.cost_derivative(activations[-1], y) * \\\n",
    "            sigmoid_prime_vec(zs[-1])\n",
    "        nabla_b[-1] = delta\n",
    "        nabla_w[-1] = np.dot(delta, activations[-2].transpose())\n",
    "        # Note that the variable l in the loop below is used a little\n",
    "        # differently to the notation in Chapter 2 of the book.  Here,\n",
    "        # l = 1 means the last layer of neurons, l = 2 is the\n",
    "        # second-last layer, and so on.  It's a renumbering of the\n",
    "        # scheme in the book, used here to take advantage of the fact\n",
    "        # that Python can use negative indices in lists.\n",
    "        for l in xrange(2, self.num_layers):\n",
    "            z = zs[-l]\n",
    "            spv = sigmoid_prime_vec(z)\n",
    "            delta = np.dot(self.weights[-l+1].transpose(), delta) * spv\n",
    "            nabla_b[-l] = delta\n",
    "            nabla_w[-l] = np.dot(delta, activations[-l-1].transpose())\n",
    "        return (nabla_b, nabla_w)\n",
    "    \n",
    "    def evaluate(self, test_data):\n",
    "        \"\"\"\n",
    "        Return number of test inputs for which the network outputs the correct results\n",
    "        The nets output is assumed to be the index of whichever neuron in last layer has highest activtaion\n",
    "        \"\"\"\n",
    "        test_results = [(np.argmax(self.feedforward(x)), y) for (x,y) in test_data]\n",
    "        return sum(int(x==y) for (x,y) in test_results)\n",
    "    \n",
    "    def cost_derivative(self, output_activations, y):\n",
    "        \"\"\"\n",
    "        Return vector of partial derivatives \\partial C_x / \\partial a for the output activations\n",
    "        \"\"\"\n",
    "        return output_activations-y\n",
    "    "
   ]
  },
  {
   "cell_type": "code",
   "execution_count": 14,
   "metadata": {
    "collapsed": true
   },
   "outputs": [],
   "source": [
    "def sigmoid(z):\n",
    "    return 1.0/(1.0 + np.exp(-z))\n",
    "\n",
    "#vectorized form of sigmoid function\n",
    "# takes a nested sequence of objects or numpy arrays as inputs and returns a numpy array as output\n",
    "sigmoid_vec = np.vectorize(sigmoid)\n",
    "\n",
    "def sigmoid_prime(z):\n",
    "    \"\"\"Derivative of sigmoid func\"\"\"\n",
    "    return sigmoid(z)*(1-sigmoid(z))\n",
    "\n",
    "sigmoid_prime_vec = np.vectorize(sigmoid_prime)"
   ]
  },
  {
   "cell_type": "code",
   "execution_count": 14,
   "metadata": {
    "collapsed": false
   },
   "outputs": [
    {
     "name": "stdout",
     "output_type": "stream",
     "text": [
      "[2, 3]\n"
     ]
    }
   ],
   "source": [
    "net = Network([2,3,1])"
   ]
  },
  {
   "cell_type": "code",
   "execution_count": 15,
   "metadata": {
    "collapsed": false
   },
   "outputs": [
    {
     "data": {
      "text/plain": [
       "[array([[-0.23856424,  0.07804673],\n",
       "        [ 1.5756189 , -0.17127159],\n",
       "        [ 0.22516764, -0.68210178]]),\n",
       " array([[-0.20511055,  1.75351302,  0.0821564 ]])]"
      ]
     },
     "execution_count": 15,
     "metadata": {},
     "output_type": "execute_result"
    }
   ],
   "source": [
    "#Biases, Weights stored as numpy matrices\n",
    "net.weights"
   ]
  },
  {
   "cell_type": "code",
   "execution_count": null,
   "metadata": {
    "collapsed": true
   },
   "outputs": [],
   "source": []
  },
  {
   "cell_type": "markdown",
   "metadata": {},
   "source": [
    "###Load Up Our Data"
   ]
  },
  {
   "cell_type": "code",
   "execution_count": 2,
   "metadata": {
    "collapsed": false
   },
   "outputs": [],
   "source": [
    "import mnist_loader"
   ]
  },
  {
   "cell_type": "code",
   "execution_count": 3,
   "metadata": {
    "collapsed": false
   },
   "outputs": [],
   "source": [
    "training_data, validation_data, test_data = mnist_loader.load_data_wrapper()"
   ]
  },
  {
   "cell_type": "code",
   "execution_count": 25,
   "metadata": {
    "collapsed": false
   },
   "outputs": [
    {
     "name": "stdout",
     "output_type": "stream",
     "text": [
      "Epoch 0: 8981 / 10000\n",
      "Epoch 1: 9247 / 10000\n",
      "Epoch 2: 9246 / 10000\n",
      "Epoch 3: 9376 / 10000\n",
      "Epoch 4: 9397 / 10000\n",
      "Epoch 5: 9419 / 10000\n",
      "Epoch 6: 9414 / 10000\n",
      "Epoch 7: 9431 / 10000\n",
      "Epoch 8: 9431 / 10000\n",
      "Epoch 9: 9431 / 10000\n",
      "Epoch 10: 9458 / 10000\n",
      "Epoch 11: 9481 / 10000\n",
      "Epoch 12: 9465 / 10000\n",
      "Epoch 13: 9464 / 10000\n",
      "Epoch 14: 9480 / 10000\n",
      "Epoch 15: 9481 / 10000\n",
      "Epoch 16: 9525 / 10000\n",
      "Epoch 17: 9504 / 10000\n",
      "Epoch 18: 9520 / 10000\n",
      "Epoch 19: 9510 / 10000\n",
      "Epoch 20: 9507 / 10000\n",
      "Epoch 21: 9526 / 10000\n",
      "Epoch 22: 9501 / 10000\n",
      "Epoch 23: 9527 / 10000\n",
      "Epoch 24: 9536 / 10000\n",
      "Epoch 25: 9523 / 10000\n",
      "Epoch 26: 9513 / 10000\n",
      "Epoch 27: 9525 / 10000\n",
      "Epoch 28: 9529 / 10000\n",
      "Epoch 29: 9543 / 10000\n"
     ]
    }
   ],
   "source": [
    "net = Network([784, 30, 10])\n",
    "net.SGD(training_data, 30, 10, 3.0, test_data=test_data)"
   ]
  },
  {
   "cell_type": "code",
   "execution_count": null,
   "metadata": {
    "collapsed": true
   },
   "outputs": [],
   "source": []
  }
 ],
 "metadata": {
  "kernelspec": {
   "display_name": "Python 2",
   "language": "python",
   "name": "python2"
  },
  "language_info": {
   "codemirror_mode": {
    "name": "ipython",
    "version": 2
   },
   "file_extension": ".py",
   "mimetype": "text/x-python",
   "name": "python",
   "nbconvert_exporter": "python",
   "pygments_lexer": "ipython2",
   "version": "2.7.10"
  }
 },
 "nbformat": 4,
 "nbformat_minor": 0
}
